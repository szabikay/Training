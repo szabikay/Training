{
 "cells": [
  {
   "cell_type": "markdown",
   "metadata": {},
   "source": [
    "# Python introduction"
   ]
  },
  {
   "cell_type": "markdown",
   "metadata": {},
   "source": [
    "## Python"
   ]
  },
  {
   "cell_type": "markdown",
   "metadata": {},
   "source": [
    "Python is a widely-used, interpreted, object-oriented, and high-level programming language with dynamic semantics, used for general-purpose programming. It was created by Guido van Rossum, and first released on February 20, 1991. It gets name after the comedy sketches Monty Python's Flying Circus.\n",
    "\n",
    "* **open source** - source code is available to everyone and potentially anyone can contribute to its development. Source code for Python and its modules can be found on GitHub\n",
    "* **interpreted** - not need to be compiled into machine code to run\n",
    "* **high-level** - easy to write and read as it's closer to the human language. Thanks to the interpreter it can run on any machine\n",
    "* **general purpose** - can be used for building softwares for various purposes\n",
    "* **object-oriented** - focuses on \"objects\" that can be manipulated with methods or by changing its attributes. For example object can be list of numbers, if we want add a new number to the list ```append()``` method can be used\n",
    "* **\n",
    "\n",
    "#### Syntax\n",
    "\n",
    "* Python has a simple syntax similar to the English language\n",
    "* Python keywords are case-sensitive\n",
    "* Python uses new lines to complete a command, unlike other languages which often use semicolons or parentheses.\n",
    "* Python relies significantly on indentation to define the scope of if statement, loops, functions or classes while other languages can use curly braces {}\n",
    "    \n",
    "    **Java**\n",
    "    ```java\n",
    "    if (condition) {\n",
    "    // block of code to be executed if the condition is true\n",
    "    }\n",
    "    ```\n",
    "    **Python**\n",
    "    ```python\n",
    "    if condition:\n",
    "        #TAB to create indentation\n",
    "        #block of code to be executed if the condition is true\n",
    "    ``` \n",
    "* **\n",
    "    \n",
    "#### Popular libraries\n",
    "\n",
    "Python has a few in-built functionalities, but it's powerful thanks to wide range of libraries (modules).\n",
    "\n",
    "\n",
    "* **Numpy** - mathematical functions, ranges and lists, n-dimensional arrays and matrices\n",
    "* **Matplotlib** - static, animated and interactive visualizations and graphs\n",
    "* **Pandas** - data analysis and manipulation\n",
    "* **Scikit-learn** - machine learning\n",
    "* **Scipy** - functions and data manipulation for science and engineering\n",
    "* **Django** - web development\n",
    "* **Beatiful Soup** - web scraping, pulling data out of HTML and XML files\n",
    "* **Tensorflow** - large-scale neural networks\n",
    "* **\n",
    "\n",
    "#### PEP8 - style guide for Python code\n",
    "\n",
    "Provides a guidelines and best practices how to write a Python code. https://www.python.org/dev/peps/pep-0008/\n",
    "\n",
    "* **indentation** - use 4 spaces per indentation instead of tab. \n",
    "* **maximum line lenght** - limit all lines to a maximum of 79 characters\n",
    "* **line break before binary operator** - for example adding up many variables which code doesn't fit into single line the following (+) sign should be at the beginning of the new line\n",
    "* **blank lines** - surround top-level function and class definitions with two blank lines. Method definitions inside a class are surrounded by a single blank line.\n",
    "* **imports** - importing libraries always should on separate lines\n",
    "* **naming conventions** - ```b (single lowercase letter), B (single uppercase letter), lowercase, lower_case_with_underscores, UPPERCASE, UPPER_CASE_WITH_UNDERSCORES, CamelCase, mixedCase```. Class names should normally use the CapWords or CamelCase convention.\n",
    "* **avoid variable names** - never use the characters 'l' (lowercase letter el), 'O' (uppercase letter oh), or 'I' (uppercase letter eye) as single character variable names.\n",
    "* **\n",
    "\n",
    "#### Assign variables\n",
    "\n",
    "* value can be assigned to variable using ```=``` as ```x = 3```\n",
    "* variables do not need to be declared with any particular type, and can even change type after they have been set\n",
    "* data type of the variable can be set with casting as ```x = str(3)``` this will convert the integer 3 to string\n",
    "* we can get the data type of a variable as ```type(x)```\n",
    "* variable names are case-sensitive i.e. you can have variables *Var1* and *var1* at the same time and assign different values to them\n",
    "* to output variable print function as ```print(x)```\n"
   ]
  },
  {
   "cell_type": "code",
   "execution_count": 1,
   "metadata": {},
   "outputs": [
    {
     "data": {
      "text/html": [
       "<! --make tables left align-->\n",
       "<style>\n",
       "table {float:left}\n",
       "</style>\n"
      ],
      "text/plain": [
       "<IPython.core.display.HTML object>"
      ]
     },
     "metadata": {},
     "output_type": "display_data"
    }
   ],
   "source": [
    "%%html\n",
    "<! --make tables left align-->\n",
    "<style>\n",
    "table {float:left}\n",
    "</style>"
   ]
  },
  {
   "cell_type": "code",
   "execution_count": null,
   "metadata": {},
   "outputs": [],
   "source": [
    "#Import modules we will use later\n",
    "import pandas as pd\n",
    "import numpy as np\n",
    "from numpy.random import randn"
   ]
  },
  {
   "cell_type": "markdown",
   "metadata": {},
   "source": [
    "## 1. Data types\n",
    "\n",
    "* **Numeric** - representing numbers Integer (whole number), Float (decimal)\n",
    "* **Strings** - texts. Strings are usually written within single or double quotes\n",
    "* **Booleans** - True or False\n",
    "* **Lists** - is a store collection of data in one variable. List items are indexed and can be retrieved or deleted individually\n",
    "* **Dictionaries** - a special collection which holds the data in key/value pair\n",
    "* **Tuples** - tuples are very similar to lists but they are immutable, which means we cannot change the item. Although, tuples can contain mutable data types such as list\n",
    "* **Sets** - unordered collection of data without duplicates"
   ]
  },
  {
   "cell_type": "markdown",
   "metadata": {},
   "source": [
    "### Numeric"
   ]
  },
  {
   "cell_type": "code",
   "execution_count": null,
   "metadata": {},
   "outputs": [],
   "source": [
    "myFloat = 1.0\n",
    "type(myFloat)"
   ]
  },
  {
   "cell_type": "code",
   "execution_count": null,
   "metadata": {},
   "outputs": [],
   "source": [
    "myInteger = 1\n",
    "type(myInteger)"
   ]
  },
  {
   "cell_type": "markdown",
   "metadata": {},
   "source": [
    "### Strings\n",
    "\n",
    "* string represents text\n",
    "* can be written either between single quotation or double quotation marks\n",
    "* multiline string can be written with three single ''' or three double quotes \"\"\"\n",
    "* string is basically a collection of characters. Each of the character can be accessed by index"
   ]
  },
  {
   "cell_type": "code",
   "execution_count": null,
   "metadata": {},
   "outputs": [],
   "source": [
    "singleQuote = 'Hello world!'\n",
    "doubleQuote = \"Python is cool\"\n",
    "combinedQuotes = \"Let's do some coding\"\n",
    "\n",
    "multiLines = \"\"\"Hello world!\n",
    "Python is cool\n",
    "Let's do some coding\n",
    "\"\"\""
   ]
  },
  {
   "cell_type": "code",
   "execution_count": null,
   "metadata": {},
   "outputs": [],
   "source": [
    "print(type(singleQuote))\n",
    "print(type(doubleQuote))\n",
    "print(type(combinedQuotes))\n",
    "print(type(multiLines))"
   ]
  },
  {
   "cell_type": "markdown",
   "metadata": {},
   "source": [
    "| Text           | H   | e   | l   | l  | o  |    | w  | o  | r  | l  | d  | !  |\n",
    "|----------------|-----|-----|-----|----|----|----|----|----|----|----|----|----|\n",
    "| Index          | 0   | 1   | 2   | 3  | 4  | 5  | 6  | 7  | 8  | 9  | 10 | 11 |\n",
    "| Negative index | -12 | -11 | -10 | -9 | -8 | -7 | -6 | -5 | -4 | -3 | -2 | -1 |"
   ]
  },
  {
   "cell_type": "code",
   "execution_count": null,
   "metadata": {},
   "outputs": [],
   "source": [
    "#Get the last character\n",
    "singleQuote[-1]"
   ]
  },
  {
   "cell_type": "code",
   "execution_count": null,
   "metadata": {},
   "outputs": [],
   "source": [
    "#Slicing - last index is not included\n",
    "singleQuote[0:7]"
   ]
  },
  {
   "cell_type": "code",
   "execution_count": null,
   "metadata": {},
   "outputs": [],
   "source": [
    "#Slice from the start - last index is not include\n",
    "singleQuote[:5]"
   ]
  },
  {
   "cell_type": "code",
   "execution_count": null,
   "metadata": {},
   "outputs": [],
   "source": [
    "#Slice to the end\n",
    "singleQuote[6:]"
   ]
  },
  {
   "cell_type": "code",
   "execution_count": null,
   "metadata": {},
   "outputs": [],
   "source": [
    "#Slice with negative index - last index is not include\n",
    "singleQuote[-6:-1]"
   ]
  },
  {
   "cell_type": "markdown",
   "metadata": {},
   "source": [
    "### Booleans\n",
    "\n",
    "* can be True or False\n",
    "* results of any expression evaluation is boolean"
   ]
  },
  {
   "cell_type": "code",
   "execution_count": null,
   "metadata": {},
   "outputs": [],
   "source": [
    "type(True)"
   ]
  },
  {
   "cell_type": "code",
   "execution_count": null,
   "metadata": {},
   "outputs": [],
   "source": [
    "type(False)"
   ]
  },
  {
   "cell_type": "code",
   "execution_count": null,
   "metadata": {},
   "outputs": [],
   "source": [
    "print(10 > 9)\n",
    "print(10 == 9)\n",
    "print(10 < 9)"
   ]
  },
  {
   "cell_type": "markdown",
   "metadata": {},
   "source": [
    "### Lists\n",
    "\n",
    "* [  ] brackets\n",
    "* indexed - first item has index [0], last item has index [-1]\n",
    "* ordered - items following in a specific order\n",
    "* mutable - can change, add or remove items\n",
    "* allow duplicates"
   ]
  },
  {
   "cell_type": "code",
   "execution_count": null,
   "metadata": {},
   "outputs": [],
   "source": [
    "listNumbers = [1001,1002,1003]\n",
    "listStrings = ['HM', '1K', 'Ex']\n",
    "listBooleans = [True, True, False]\n",
    "listCombined = [1001, 'HM', True]\n",
    "listNested = [[1001,1002,1003],['HM', '1K', 'Ex'],[True, True, False]]"
   ]
  },
  {
   "cell_type": "code",
   "execution_count": null,
   "metadata": {},
   "outputs": [],
   "source": [
    "type(listNumbers), type(listStrings), type(listBooleans), type(listCombined), type(listNested)"
   ]
  },
  {
   "cell_type": "code",
   "execution_count": null,
   "metadata": {},
   "outputs": [],
   "source": [
    "#Access list item\n",
    "listNested[1][0]"
   ]
  },
  {
   "cell_type": "code",
   "execution_count": null,
   "metadata": {},
   "outputs": [],
   "source": [
    "#Access the last item with index -1\n",
    "listStrings[-1]"
   ]
  },
  {
   "cell_type": "code",
   "execution_count": null,
   "metadata": {},
   "outputs": [],
   "source": [
    "#Append new list item - it will automatically add new item at the end\n",
    "print('Before: ', listNumbers)\n",
    "listNumbers.append('4001')\n",
    "print('After: ', listNumbers)"
   ]
  },
  {
   "cell_type": "code",
   "execution_count": null,
   "metadata": {},
   "outputs": [],
   "source": [
    "#Change list item\n",
    "print('Before: ', listStrings)\n",
    "listStrings[1] = 'HM'\n",
    "print('After: ', listStrings)"
   ]
  },
  {
   "cell_type": "code",
   "execution_count": null,
   "metadata": {},
   "outputs": [],
   "source": [
    "#Add(append) or remove(pop) item at specific index\n",
    "print('Before: ', listNumbers)\n",
    "listNumbers.pop(-1)\n",
    "print('After: ', listNumbers)"
   ]
  },
  {
   "cell_type": "markdown",
   "metadata": {},
   "source": [
    "### Dictionaries\n",
    "\n",
    "* { } curly braces\n",
    "* used to store collection of values in **key:value** pair\n",
    "* mutable - can change, add or remove items\n",
    "* no duplicates are allowed"
   ]
  },
  {
   "cell_type": "code",
   "execution_count": null,
   "metadata": {},
   "outputs": [],
   "source": [
    "countryCodes = {'Czech':'CZ', 'Slovakia':'SL', 'Hungary':'HU'}\n",
    "type(countryCodes)"
   ]
  },
  {
   "cell_type": "code",
   "execution_count": null,
   "metadata": {},
   "outputs": [],
   "source": [
    "#We can print all keys and values separately as a list\n",
    "print(countryCodes.keys())\n",
    "print(countryCodes.values())"
   ]
  },
  {
   "cell_type": "code",
   "execution_count": null,
   "metadata": {},
   "outputs": [],
   "source": [
    "#Add new list item - it will automatically add new item at the end\n",
    "print('Before: ', countryCodes)\n",
    "countryCodes['Poland'] = 'PL'\n",
    "print('After: ', countryCodes)"
   ]
  },
  {
   "cell_type": "code",
   "execution_count": null,
   "metadata": {},
   "outputs": [],
   "source": [
    "#Change list item\n",
    "print('Before: ', countryCodes)\n",
    "countryCodes['Slovakia'] = 'SK'\n",
    "print('After: ', countryCodes)"
   ]
  },
  {
   "cell_type": "code",
   "execution_count": null,
   "metadata": {},
   "outputs": [],
   "source": [
    "#Remove list item\n",
    "print('Before: ', countryCodes)\n",
    "countryCodes.pop('Poland')\n",
    "print('After: ', countryCodes)"
   ]
  },
  {
   "cell_type": "markdown",
   "metadata": {},
   "source": [
    "### Sets\n",
    "\n",
    "* { } curly braces\n",
    "* used to store collection of values\n",
    "* unordered - item cannot be accessed by index, but by value\n",
    "* immutable - cannot change individual item but can be added or removed\n",
    "* no duplicates are allowed"
   ]
  },
  {
   "cell_type": "code",
   "execution_count": null,
   "metadata": {},
   "outputs": [],
   "source": [
    "mySet = {1001, 1001, 1001, 1002, 1002, 1003, 'HM'}\n",
    "type(mySet)"
   ]
  },
  {
   "cell_type": "code",
   "execution_count": null,
   "metadata": {},
   "outputs": [],
   "source": [
    "mySet"
   ]
  },
  {
   "cell_type": "code",
   "execution_count": null,
   "metadata": {},
   "outputs": [],
   "source": [
    "mySet.add(1004)\n",
    "mySet.remove(\"HM\") #If the item to remove does not exist, discard() will NOT raise an error.\n",
    "mySet"
   ]
  },
  {
   "cell_type": "code",
   "execution_count": null,
   "metadata": {},
   "outputs": [],
   "source": [
    "mySet[1]"
   ]
  },
  {
   "cell_type": "markdown",
   "metadata": {},
   "source": [
    "### Tuples\n",
    "\n",
    "* ( ) parentheses\n",
    "* used to store collection of values\n",
    "* ordered - item can be accessed by index, first[0], last[-1]\n",
    "* immutable - cannot change individual item\n",
    "* allow duplicates\n",
    "* tuple unpacking - when assigning tuple elements into separate variables"
   ]
  },
  {
   "cell_type": "code",
   "execution_count": null,
   "metadata": {},
   "outputs": [],
   "source": [
    "myTuple = (\"Ultra fresh\", \"Food grocery\", \"Non food grocery\", \"Ultra fresh\")"
   ]
  },
  {
   "cell_type": "code",
   "execution_count": null,
   "metadata": {},
   "outputs": [],
   "source": [
    "myTuple[2]"
   ]
  },
  {
   "cell_type": "code",
   "execution_count": null,
   "metadata": {},
   "outputs": [],
   "source": [
    "#Packing tuples\n",
    "theTuple = (10,20,30)\n",
    "\n",
    "#Unpacking tuples\n",
    "x, y, z = theTuple\n",
    "\n",
    "print(x)\n",
    "print(y)\n",
    "print(z)"
   ]
  },
  {
   "cell_type": "markdown",
   "metadata": {},
   "source": [
    "## 2. Operators\n",
    "\n",
    "* Arithmetic operators\n",
    "* Assignment operators\n",
    "* Comparison operators\n",
    "* Logical operators\n",
    "* Identity operators\n",
    "* Membership operators\n"
   ]
  },
  {
   "cell_type": "markdown",
   "metadata": {},
   "source": [
    "### Arithmetic operators\n",
    "\n",
    "Arithmetic operators are used with numeric values to perform common mathematical operations\n",
    "\n",
    "| Operator |      Name      | Example |\n",
    "|:--------:|:--------------:|:-------:|\n",
    "|     +    | Addition       |  x + y  |\n",
    "|     -    | Subtraction    |  x - y  |\n",
    "|     *    | Multiplication |  x * y  |\n",
    "|     /    | Division       |  x / y  |\n",
    "|     %    | Modulus        |  x % y  |\n",
    "|    **    | Exponentiation |  x ** y |\n",
    "|    //    | Floor division |  x // y |"
   ]
  },
  {
   "cell_type": "code",
   "execution_count": null,
   "metadata": {},
   "outputs": [],
   "source": [
    "10 + 20"
   ]
  },
  {
   "cell_type": "code",
   "execution_count": null,
   "metadata": {},
   "outputs": [],
   "source": [
    "#returns the remainder of a division \n",
    "18 % 4 "
   ]
  },
  {
   "cell_type": "code",
   "execution_count": null,
   "metadata": {},
   "outputs": [],
   "source": [
    "2 ** 8"
   ]
  },
  {
   "cell_type": "code",
   "execution_count": null,
   "metadata": {},
   "outputs": [],
   "source": [
    "# 9/2=4.5 rounded down to 4\n",
    "9 // 2"
   ]
  },
  {
   "cell_type": "markdown",
   "metadata": {},
   "source": [
    "### Assignment operators\n",
    "\n",
    "Assignment operators are used to assign values to variables. Assigment operations in combination with arithmethics operator can make your code shorter. Also can be used in a loops when we need to increase the value of counter variable by 1.\n",
    "\n",
    "| Operator | Example |   Same As  |\n",
    "|:--------:|:-------:|:----------:|\n",
    "|     =    |  x = 5  |    x = 5   |\n",
    "|    +=    |  x += 3 |  x = x + 3 |\n",
    "|    -=    |  x -= 3 |  x = x - 3 |\n",
    "|    *=    |  x *= 3 |  x = x * 3 |\n",
    "|    /=    |  x /= 3 |  x = x / 3 |\n",
    "|    %=    |  x %= 3 |  x = x % 3 |\n",
    "|    //=   | x //= 3 | x = x // 3 |\n",
    "|    **=   | x **= 3 | x = x ** 3 |"
   ]
  },
  {
   "cell_type": "code",
   "execution_count": null,
   "metadata": {},
   "outputs": [],
   "source": [
    "x = 5\n",
    "print(x)"
   ]
  },
  {
   "cell_type": "code",
   "execution_count": null,
   "metadata": {},
   "outputs": [],
   "source": [
    "x *= 3\n",
    "print(x)"
   ]
  },
  {
   "cell_type": "markdown",
   "metadata": {},
   "source": [
    "### Comparison Operators\n",
    "\n",
    "Comparison operators are used to compare two values or variable.\n",
    "\n",
    "| Operator |           Name           | Example |\n",
    "|:--------:|:------------------------:|:-------:|\n",
    "|    ==    |           Equal          |  x == y |\n",
    "|    !=    |         Not equal        |  x != y |\n",
    "|     >    |       Greater than       |  x > y  |\n",
    "|     <    |         Less than        |  x < y  |\n",
    "|    >=    | Greater than or equal to |  x >= y |\n",
    "|    <=    |   Less than or equal to  |  x <= y |"
   ]
  },
  {
   "cell_type": "code",
   "execution_count": null,
   "metadata": {},
   "outputs": [],
   "source": [
    "x = 10\n",
    "y = 20"
   ]
  },
  {
   "cell_type": "code",
   "execution_count": null,
   "metadata": {},
   "outputs": [],
   "source": [
    "x == y"
   ]
  },
  {
   "cell_type": "code",
   "execution_count": null,
   "metadata": {},
   "outputs": [],
   "source": [
    "x != y"
   ]
  },
  {
   "cell_type": "markdown",
   "metadata": {},
   "source": [
    "### Logical operators\n",
    "\n",
    "Logical operators are used to combine conditional statements.\n",
    "\n",
    "| Operator |                       Description                       |        Example        |\n",
    "|:--------:|:-------------------------------------------------------:|:---------------------:|\n",
    "|   and    |         Returns True if both statements are true        |   x < 5 and  x < 10   |\n",
    "|    or    |      Returns True if one of the statements is true      |     x < 5 or x < 4    |\n",
    "|    not   | Reverse the result, returns False if the result is True | not(x < 5 and x < 10) |\n"
   ]
  },
  {
   "cell_type": "code",
   "execution_count": null,
   "metadata": {},
   "outputs": [],
   "source": [
    "x = 10\n",
    "y = 20"
   ]
  },
  {
   "cell_type": "code",
   "execution_count": null,
   "metadata": {},
   "outputs": [],
   "source": [
    "x < y and y % 2 == 0 # x is smaller than y AND y is even"
   ]
  },
  {
   "cell_type": "code",
   "execution_count": null,
   "metadata": {},
   "outputs": [],
   "source": [
    "x == 10 or y == 10 # either x or y is 10"
   ]
  },
  {
   "cell_type": "code",
   "execution_count": null,
   "metadata": {},
   "outputs": [],
   "source": [
    "not(True)"
   ]
  },
  {
   "cell_type": "code",
   "execution_count": null,
   "metadata": {
    "scrolled": true
   },
   "outputs": [],
   "source": [
    "not(x < y and y % 2 == 0) # reverse the result True become False"
   ]
  },
  {
   "cell_type": "markdown",
   "metadata": {},
   "source": [
    "### Identity operators\n",
    "\n",
    "Identity operators are used to compare the objects, not if they are equal, but if they are actually the same object with the same memory location.\n",
    "\n",
    "| Operator |                       Description                      |   Example  |\n",
    "|:--------:|:------------------------------------------------------:|:----------:|\n",
    "|    is    |   Returns True if both variables are the same object   |   x is y   |\n",
    "|  is not  | Returns True if both variables are not the same object | x is not y |"
   ]
  },
  {
   "cell_type": "code",
   "execution_count": null,
   "metadata": {},
   "outputs": [],
   "source": [
    "x = [10, 20, 30]\n",
    "y = [10, 20, 30]\n",
    "z = x"
   ]
  },
  {
   "cell_type": "code",
   "execution_count": null,
   "metadata": {},
   "outputs": [],
   "source": [
    "x == y"
   ]
  },
  {
   "cell_type": "code",
   "execution_count": null,
   "metadata": {},
   "outputs": [],
   "source": [
    "x is y"
   ]
  },
  {
   "cell_type": "code",
   "execution_count": null,
   "metadata": {},
   "outputs": [],
   "source": [
    "z is x #z was created from x and therefore is the same object"
   ]
  },
  {
   "cell_type": "markdown",
   "metadata": {},
   "source": [
    "### Membership operators\n",
    "\n",
    "Membership operators are used to test if a sequence is presented in an object.\n",
    "\n",
    "\n",
    "| Operator |                                     Description                                    |   Example  |\n",
    "|:--------:|:----------------------------------------------------------------------------------:|:----------:|\n",
    "|    in    |   Returns True if a sequence with the specified value is   present in the object   |   x in y   |\n",
    "|  not in  | Returns True if a sequence with the specified value is   not present in the object | x not in y |"
   ]
  },
  {
   "cell_type": "code",
   "execution_count": null,
   "metadata": {},
   "outputs": [],
   "source": [
    "x = [\"Budaörs\", \"Zlaté piesky\", \"Skalka\", \"Kapelanka\" ]"
   ]
  },
  {
   "cell_type": "code",
   "execution_count": null,
   "metadata": {},
   "outputs": [],
   "source": [
    "\"Skalka\" in x"
   ]
  },
  {
   "cell_type": "code",
   "execution_count": null,
   "metadata": {},
   "outputs": [],
   "source": [
    "\"Skalka\" not in x"
   ]
  },
  {
   "cell_type": "markdown",
   "metadata": {},
   "source": [
    "## 3. Conditionals, loops and range\n",
    "\n",
    "* If, elseif, else\n",
    "* For and while loops\n",
    "* Range"
   ]
  },
  {
   "cell_type": "markdown",
   "metadata": {},
   "source": [
    "### If ...elif... else\n",
    "\n",
    "* ```if``` keyword tells to our program to run this part when certain condition is true\n",
    "* ```elif``` keyword tells to our program \"if the previous conditions were not true, then try this condition\"\n",
    "* ```else``` keyword tells to our program \"if none of previous conditions were true, then run this\""
   ]
  },
  {
   "cell_type": "code",
   "execution_count": null,
   "metadata": {},
   "outputs": [],
   "source": [
    "if 1 < 2:\n",
    "    print('2 is bigger than 1')"
   ]
  },
  {
   "cell_type": "code",
   "execution_count": null,
   "metadata": {},
   "outputs": [],
   "source": [
    "if 1 < 2:\n",
    "    print('first')\n",
    "else:\n",
    "    print('last')"
   ]
  },
  {
   "cell_type": "code",
   "execution_count": null,
   "metadata": {},
   "outputs": [],
   "source": [
    "if 1 > 2:\n",
    "    print('first')\n",
    "else:\n",
    "    print('last')"
   ]
  },
  {
   "cell_type": "code",
   "execution_count": null,
   "metadata": {},
   "outputs": [],
   "source": [
    "if 1 == 2:\n",
    "    print('first')\n",
    "elif 3 == 3:\n",
    "    print('middle')\n",
    "else:\n",
    "    print('Last')"
   ]
  },
  {
   "cell_type": "code",
   "execution_count": null,
   "metadata": {},
   "outputs": [],
   "source": [
    "x = 10\n",
    "y = 20\n",
    "z = 30\n",
    "\n",
    "if x < y:\n",
    "    if y < z:\n",
    "        print(\"x is smaller than y, and y is smaller than z\")     \n",
    "    else:\n",
    "        print(\"x is smaller than y\")"
   ]
  },
  {
   "cell_type": "markdown",
   "metadata": {},
   "source": [
    "### For loop\n",
    "\n",
    "* used to iterate through over a sequence (list, tuple, dictionary, set or string)\n",
    "* we can use *break* statement if we want to finish the loop earlier \n",
    "* we can use *continue* statement if we want move to the next sequence without executing any code "
   ]
  },
  {
   "cell_type": "code",
   "execution_count": null,
   "metadata": {},
   "outputs": [],
   "source": [
    "myStores = ['HM Nitra', 'HM Kosice', 'HM Petrzalka', 'SM Vrable', 'SM Krupina', 'SM Svidnik']"
   ]
  },
  {
   "cell_type": "code",
   "execution_count": null,
   "metadata": {},
   "outputs": [],
   "source": [
    "for store in myStores:\n",
    "    print(store)"
   ]
  },
  {
   "cell_type": "code",
   "execution_count": null,
   "metadata": {},
   "outputs": [],
   "source": [
    "for store in myStores:\n",
    "    if store[0:2] == 'HM':\n",
    "        print(store)\n",
    "    else:\n",
    "        break"
   ]
  },
  {
   "cell_type": "code",
   "execution_count": null,
   "metadata": {},
   "outputs": [],
   "source": [
    "for store in myStores:\n",
    "    if store[0:2] == 'HM':\n",
    "        continue\n",
    "    else:\n",
    "        print(store)"
   ]
  },
  {
   "cell_type": "code",
   "execution_count": null,
   "metadata": {},
   "outputs": [],
   "source": [
    "for character in \"Hello\":\n",
    "    print(character)"
   ]
  },
  {
   "cell_type": "markdown",
   "metadata": {},
   "source": [
    "### While loop\n",
    "\n",
    "* loop keeps executing the code inside while certain condition is true\n",
    "* for this purpose we are using a loop control variable, which usually a counter for iteration\n",
    "* at the end of each iteration we increment or decrement the counter based on our needs\n",
    "\n"
   ]
  },
  {
   "cell_type": "code",
   "execution_count": null,
   "metadata": {},
   "outputs": [],
   "source": [
    "i = 1 #loop control variable\n",
    "\n",
    "while i < 6:\n",
    "    print(i**i)\n",
    "    i += 1 #add 1 to loop control variable"
   ]
  },
  {
   "cell_type": "markdown",
   "metadata": {},
   "source": [
    "### Range\n",
    "\n",
    "* range() function is used to create sequence of number\n",
    "* it takes at least one argument the number of elements in the sequence\n",
    "* for range function we can define *start, end, step size*\n",
    "* range can be very useful with FOR LOOP when we want to tell to program the number of iterations"
   ]
  },
  {
   "cell_type": "code",
   "execution_count": null,
   "metadata": {},
   "outputs": [],
   "source": [
    "print(range(5))\n",
    "print(range(0,5))\n",
    "print(range(0,5,1))"
   ]
  },
  {
   "cell_type": "code",
   "execution_count": null,
   "metadata": {},
   "outputs": [],
   "source": [
    "for x in range(0,5,1):\n",
    "    print(x)"
   ]
  },
  {
   "cell_type": "code",
   "execution_count": null,
   "metadata": {},
   "outputs": [],
   "source": [
    "list(range(5))"
   ]
  },
  {
   "cell_type": "markdown",
   "metadata": {},
   "source": [
    "## 4. Classes, functions and lambda"
   ]
  },
  {
   "cell_type": "markdown",
   "metadata": {},
   "source": [
    "### Functions\n",
    "\n",
    "* function is a block of code that can be called anywhere in your program\n",
    "* in Python we use the **def** to define a function\n",
    "* you can pass data, known as parameters, into a function\n",
    "* function can also **return** value"
   ]
  },
  {
   "cell_type": "code",
   "execution_count": null,
   "metadata": {},
   "outputs": [],
   "source": [
    "#Function without argument and return\n",
    "def myFunc():\n",
    "    print(\"Printed from a function\")"
   ]
  },
  {
   "cell_type": "code",
   "execution_count": null,
   "metadata": {},
   "outputs": [],
   "source": [
    "myFunc()"
   ]
  },
  {
   "cell_type": "code",
   "execution_count": null,
   "metadata": {},
   "outputs": [],
   "source": [
    "def myPower(number,power=2):\n",
    "    \"\"\"Document your function thoroughly!\n",
    "    \n",
    "    This a very complicated function which raise your number to the power you want.\n",
    "    Takes two arguments number and power.\n",
    "    \n",
    "    Power argument is 2 by default\n",
    "    \"\"\"\n",
    "    return number ** power"
   ]
  },
  {
   "cell_type": "code",
   "execution_count": null,
   "metadata": {},
   "outputs": [],
   "source": [
    "print(myPower.__doc__)"
   ]
  },
  {
   "cell_type": "code",
   "execution_count": null,
   "metadata": {},
   "outputs": [],
   "source": [
    "defaultResult = myPower(10)\n",
    "result = myPower(2,8)\n",
    "print(defaultResult)\n",
    "print(result)"
   ]
  },
  {
   "cell_type": "markdown",
   "metadata": {},
   "source": [
    "### Lambda function\n",
    "\n",
    "* often called anonymous function\n",
    "* can take any number arguments, but can only have one expression\n",
    "* we can assign lambda to a variable and call it later\n",
    "* used alongside other functions like ```filter()```, ```map()``` and ```apply()```"
   ]
  },
  {
   "cell_type": "code",
   "execution_count": null,
   "metadata": {},
   "outputs": [],
   "source": [
    "myFunc = lambda x,y,z: x + y + z"
   ]
  },
  {
   "cell_type": "code",
   "execution_count": null,
   "metadata": {},
   "outputs": [],
   "source": [
    "myFunc"
   ]
  },
  {
   "cell_type": "code",
   "execution_count": null,
   "metadata": {},
   "outputs": [],
   "source": [
    "myFunc(2,3,5)"
   ]
  },
  {
   "cell_type": "markdown",
   "metadata": {},
   "source": [
    "### Class\n",
    "\n",
    "* Python is a object oriented and hence most of the time we are manipulating some sort of object often referring to a real life object\n",
    "* classes are the 'blueprint' for creating objects\n",
    "* classes can have methods(action) and attributes(data)\n",
    "* in the real life class should always have ```__init__()``` function where we define object properties or operations when the class is initialised (i.e. first time called)\n",
    "* when creating a function inside class we are using parameter variable ```self``` which refers to our class"
   ]
  },
  {
   "cell_type": "code",
   "execution_count": null,
   "metadata": {},
   "outputs": [],
   "source": [
    "class StackArray:\n",
    "    \"\"\"This class represent stack object. Stacks are data structures\n",
    "    which storing a data in the way of LIFO (last in first out)\n",
    "    \"\"\"\n",
    "    \n",
    "\n",
    "    def __init__(self):\n",
    "        self._data = []\n",
    "        print(\"initialised\")\n",
    "        \n",
    "    def __len__(self):\n",
    "        return len(self._data)\n",
    "    \n",
    "    def isempty(self):\n",
    "        return len(self._data) == 0\n",
    "    \n",
    "    def push(self, e):\n",
    "        self._data.append(e)\n",
    "        \n",
    "    def pop(self):\n",
    "        if self.isempty():\n",
    "            print('Your stack is empty')\n",
    "            return\n",
    "        return self._data.pop()\n",
    "    \n",
    "    def top(self):\n",
    "        if self.isempty():\n",
    "            print('Stack is empty')\n",
    "            return\n",
    "        return self._data[-1]\n",
    "    \n",
    "    def values(self):\n",
    "        return self._data"
   ]
  },
  {
   "cell_type": "code",
   "execution_count": null,
   "metadata": {},
   "outputs": [],
   "source": [
    "myClass = StackArray()"
   ]
  },
  {
   "cell_type": "code",
   "execution_count": null,
   "metadata": {},
   "outputs": [],
   "source": [
    "myClass.values()"
   ]
  },
  {
   "cell_type": "code",
   "execution_count": null,
   "metadata": {},
   "outputs": [],
   "source": [
    "myClass.push(100)"
   ]
  },
  {
   "cell_type": "markdown",
   "metadata": {},
   "source": [
    "## 5. Map and filter"
   ]
  },
  {
   "cell_type": "markdown",
   "metadata": {},
   "source": [
    "### Map\n",
    "\n",
    "Applies a function to all items in an iterable list"
   ]
  },
  {
   "cell_type": "code",
   "execution_count": null,
   "metadata": {},
   "outputs": [],
   "source": [
    "myStores = ['HM Nitra', 'HM Kosice', 'HM Petrzalka', 'SM Vrable', 'SM Krupina', 'SM Svidnik']"
   ]
  },
  {
   "cell_type": "code",
   "execution_count": null,
   "metadata": {},
   "outputs": [],
   "source": [
    "storeNames = list(map(lambda store: store[3:],myStores))\n",
    "print(storeNames)"
   ]
  },
  {
   "cell_type": "markdown",
   "metadata": {},
   "source": [
    "### Filter\n",
    "\n",
    "Filtering items based on function in an iterable list"
   ]
  },
  {
   "cell_type": "code",
   "execution_count": null,
   "metadata": {},
   "outputs": [],
   "source": [
    "myStores = ['HM Nitra', 'HM Kosice', 'HM Petrzalka', 'SM Vrable', 'SM Krupina', 'SM Svidnik']"
   ]
  },
  {
   "cell_type": "code",
   "execution_count": null,
   "metadata": {},
   "outputs": [],
   "source": [
    "myFunc = lambda store: store[0:2] == 'SM'"
   ]
  },
  {
   "cell_type": "code",
   "execution_count": null,
   "metadata": {},
   "outputs": [],
   "source": [
    "supermarkets = list(filter(myFunc, myStores))\n",
    "print(supermarkets)"
   ]
  },
  {
   "cell_type": "markdown",
   "metadata": {},
   "source": [
    "## 6. Pandas\n",
    "\n",
    "* Python library for data analysis\n",
    "* The name \"Pandas\" has a reference to both \"Panel Data\", and \"Python Data Analysis\" and was created by Wes McKinney in 2008\n",
    "* using a fast and efficient *Series* and *DataFrame* objects for data manipulation\n",
    "* very good alternative to MS Excel and VBA\n",
    "* before using Pandas features we have to import the module ```import pandas as pd``` by convention\n"
   ]
  },
  {
   "cell_type": "markdown",
   "metadata": {},
   "source": [
    "### Series\n",
    "\n",
    "* we can consider Pandas Series as one dimensional array or data column in a table\n",
    "* capable to holding any data type such as integer, float, string or even object\n",
    "* index can be defined by the user, but it must be unique"
   ]
  },
  {
   "cell_type": "code",
   "execution_count": null,
   "metadata": {},
   "outputs": [],
   "source": [
    "storeID = [1001,1002,1003]\n",
    "storeName = ['Nitra', 'Kosice', 'Banska Bystrica']"
   ]
  },
  {
   "cell_type": "code",
   "execution_count": null,
   "metadata": {},
   "outputs": [],
   "source": [
    "ser = pd.Series(storeName)\n",
    "type(ser)"
   ]
  },
  {
   "cell_type": "code",
   "execution_count": null,
   "metadata": {},
   "outputs": [],
   "source": [
    "ser"
   ]
  },
  {
   "cell_type": "code",
   "execution_count": null,
   "metadata": {},
   "outputs": [],
   "source": [
    "ser[1]"
   ]
  },
  {
   "cell_type": "code",
   "execution_count": null,
   "metadata": {},
   "outputs": [],
   "source": [
    "#Series with custom index\n",
    "pd.Series(storeName,index=storeID)"
   ]
  },
  {
   "cell_type": "markdown",
   "metadata": {},
   "source": [
    "### Data frame\n",
    "\n",
    "* two-dimensional data with rows and columns\n",
    "* we can consider each columns as Pandas Series\n",
    "* you can think of it as an SQL table or a spreadsheet data representation\n",
    "* can be created using various inputs like *lists, dictionary, Series* or even from *another data frame*\n"
   ]
  },
  {
   "cell_type": "code",
   "execution_count": null,
   "metadata": {},
   "outputs": [],
   "source": [
    "storeID = [1001,1002,1003]\n",
    "storeName = ['Nitra', 'Kosice', 'Banska Bystrica']\n",
    "storeFormat = ['HM', 'HM', 'HM']\n",
    "df = pd.DataFrame(data=list(zip(storeID, storeName, storeFormat)),columns=['store_id', 'store_name', 'store_format'])\n",
    "df"
   ]
  },
  {
   "cell_type": "markdown",
   "metadata": {},
   "source": [
    "#### Selecting and indexing"
   ]
  },
  {
   "cell_type": "code",
   "execution_count": null,
   "metadata": {},
   "outputs": [],
   "source": [
    "df = pd.DataFrame(randn(5,4),index='A B C D E'.split(),columns='W X Y Z'.split())\n",
    "df"
   ]
  },
  {
   "cell_type": "code",
   "execution_count": null,
   "metadata": {},
   "outputs": [],
   "source": [
    "#Data type of a single column\n",
    "type(df['W'])"
   ]
  },
  {
   "cell_type": "code",
   "execution_count": null,
   "metadata": {},
   "outputs": [],
   "source": [
    "#Selecting individual column\n",
    "df['W']"
   ]
  },
  {
   "cell_type": "code",
   "execution_count": null,
   "metadata": {},
   "outputs": [],
   "source": [
    "#Alternatively you can select using loc[row label, column label]\n",
    "df.loc[:,'W']"
   ]
  },
  {
   "cell_type": "code",
   "execution_count": null,
   "metadata": {},
   "outputs": [],
   "source": [
    "df.loc['A',:]"
   ]
  },
  {
   "cell_type": "code",
   "execution_count": null,
   "metadata": {},
   "outputs": [],
   "source": [
    "#Or using iloc[row index, column index]\n",
    "df.iloc[:,0]"
   ]
  },
  {
   "cell_type": "code",
   "execution_count": null,
   "metadata": {},
   "outputs": [],
   "source": [
    "#Select columns by passing a list\n",
    "df[['W','X']]"
   ]
  },
  {
   "cell_type": "code",
   "execution_count": null,
   "metadata": {},
   "outputs": [],
   "source": [
    "#Select columns with iloc\n",
    "df.iloc[:,0:2]"
   ]
  },
  {
   "cell_type": "code",
   "execution_count": null,
   "metadata": {},
   "outputs": [],
   "source": [
    "#Create a new column\n",
    "df['new'] =  df['W'] * 10\n",
    "df"
   ]
  },
  {
   "cell_type": "code",
   "execution_count": null,
   "metadata": {},
   "outputs": [],
   "source": [
    "#Remove a column\n",
    "df.drop('new', axis=1, inplace=True)\n",
    "df"
   ]
  },
  {
   "cell_type": "code",
   "execution_count": null,
   "metadata": {},
   "outputs": [],
   "source": [
    "df.reset_index(drop=True, inplace=True)\n",
    "df"
   ]
  },
  {
   "cell_type": "code",
   "execution_count": null,
   "metadata": {},
   "outputs": [],
   "source": [
    "dates = pd.date_range(start=\"01/01/2022\", periods=5).strftime('%Y-%m-%d')\n",
    "df.set_index(dates,inplace=True)"
   ]
  },
  {
   "cell_type": "code",
   "execution_count": null,
   "metadata": {},
   "outputs": [],
   "source": [
    "df.loc['2022-01-01']"
   ]
  },
  {
   "cell_type": "markdown",
   "metadata": {},
   "source": [
    "#### Conditional selections"
   ]
  },
  {
   "cell_type": "code",
   "execution_count": null,
   "metadata": {},
   "outputs": [],
   "source": [
    "df>0"
   ]
  },
  {
   "cell_type": "code",
   "execution_count": null,
   "metadata": {},
   "outputs": [],
   "source": [
    "#Select rows where any of the values are greater than 0, display smaller as NaN\n",
    "df[df>0]"
   ]
  },
  {
   "cell_type": "code",
   "execution_count": null,
   "metadata": {},
   "outputs": [],
   "source": [
    "#Select only rows where specific value of the column is less than 0\n",
    "df[df['W']<0]"
   ]
  },
  {
   "cell_type": "markdown",
   "metadata": {},
   "source": [
    "#### Loading data from file into DataFrame and exploring\n",
    "\n",
    "* Pandas can read various data sources such as text files, JSON, Excel, SQL tables and many more\n",
    "* When definining the filepath you can use absolute or relative path. \n",
    "* use ```pwd``` - print working directory or ```cd``` - change directory to find out the currenty working directory and change it if we want to work with relative path"
   ]
  },
  {
   "cell_type": "code",
   "execution_count": null,
   "metadata": {},
   "outputs": [],
   "source": [
    "pwd"
   ]
  },
  {
   "cell_type": "code",
   "execution_count": null,
   "metadata": {},
   "outputs": [],
   "source": [
    "forecastsDF = pd.read_csv('forecasts.txt', sep='\\t')\n",
    "storeDetailsDF = pd.read_excel('store_details.xlsx')"
   ]
  },
  {
   "cell_type": "code",
   "execution_count": null,
   "metadata": {
    "scrolled": true
   },
   "outputs": [],
   "source": [
    "#First five rows of the DataFrame\n",
    "forecastsDF.head()"
   ]
  },
  {
   "cell_type": "code",
   "execution_count": null,
   "metadata": {},
   "outputs": [],
   "source": [
    "#Last three rows of the DataFrame\n",
    "storeDetailsDF.tail(3)"
   ]
  },
  {
   "cell_type": "code",
   "execution_count": null,
   "metadata": {},
   "outputs": [],
   "source": [
    "#List out indexes\n",
    "storeDetailsDF.index"
   ]
  },
  {
   "cell_type": "code",
   "execution_count": null,
   "metadata": {},
   "outputs": [],
   "source": [
    "#List out all columns\n",
    "storeDetailsDF.columns"
   ]
  },
  {
   "cell_type": "code",
   "execution_count": null,
   "metadata": {},
   "outputs": [],
   "source": [
    "#Shape of our data frame\n",
    "forecastsDF.shape"
   ]
  },
  {
   "cell_type": "code",
   "execution_count": null,
   "metadata": {},
   "outputs": [],
   "source": [
    "#All elements in the data frame\n",
    "forecastsDF.size"
   ]
  },
  {
   "cell_type": "code",
   "execution_count": null,
   "metadata": {},
   "outputs": [],
   "source": [
    "#Summary about the columns and data types\n",
    "forecastsDF.info()"
   ]
  },
  {
   "cell_type": "code",
   "execution_count": null,
   "metadata": {},
   "outputs": [],
   "source": [
    "#Get basic statistics on numeric columns\n",
    "forecastsDF.iloc[:,9:11].describe()"
   ]
  },
  {
   "cell_type": "code",
   "execution_count": null,
   "metadata": {},
   "outputs": [],
   "source": [
    "#Get basic statistics on categorical columns\n",
    "forecastsDF.iloc[:,[2,6]].describe()"
   ]
  },
  {
   "cell_type": "code",
   "execution_count": null,
   "metadata": {},
   "outputs": [],
   "source": [
    "#Unique values from a series\n",
    "forecastsDF['format_name'].unique()"
   ]
  },
  {
   "cell_type": "code",
   "execution_count": null,
   "metadata": {},
   "outputs": [],
   "source": [
    "#Value counts of a series\n",
    "forecastsDF['format_name'].value_counts()"
   ]
  },
  {
   "cell_type": "code",
   "execution_count": null,
   "metadata": {},
   "outputs": [],
   "source": [
    "#Get number of rows where we have missing values\n",
    "storeDetailsDF.isnull().sum()"
   ]
  },
  {
   "cell_type": "code",
   "execution_count": null,
   "metadata": {},
   "outputs": [],
   "source": [
    "#Get exact items where the location is null\n",
    "storeDetailsDF[storeDetailsDF['location'].isnull()]"
   ]
  },
  {
   "cell_type": "markdown",
   "metadata": {},
   "source": [
    "#### Manipulating data in data frame"
   ]
  },
  {
   "cell_type": "code",
   "execution_count": null,
   "metadata": {},
   "outputs": [],
   "source": [
    "#Cast to different datatype\n",
    "print(\"Before: \", forecastsDF['tpnb'].dtypes)\n",
    "forecastsDF['tpnb'] = forecastsDF['tpnb'].astype('str')\n",
    "print(\"After: \", forecastsDF['tpnb'].dtypes)"
   ]
  },
  {
   "cell_type": "code",
   "execution_count": null,
   "metadata": {},
   "outputs": [],
   "source": [
    "#Sorting values - note that the records keep index values, can be reset using method reset.index()\n",
    "forecastsDF.sort_values(['offer_number', 'store'], ascending=[False, True]).head()"
   ]
  },
  {
   "cell_type": "code",
   "execution_count": null,
   "metadata": {
    "scrolled": true
   },
   "outputs": [],
   "source": [
    "#Use apply/map to create new column\n",
    "def productDivision(x):\n",
    "    divisionMapping = {'A':1, 'B':2, 'C':3}\n",
    "    return divisionMapping.get(x[0])\n",
    "\n",
    "forecastsDF['division'] = forecastsDF['sg_cd'].apply(productDivision)\n",
    "forecastsDF['store_type'] = forecastsDF['format_name'].apply(lambda x: 'large' if x == 'HM' else 'small')\n",
    "forecastsDF.head()"
   ]
  },
  {
   "cell_type": "markdown",
   "metadata": {},
   "source": [
    "#### Group by"
   ]
  },
  {
   "cell_type": "code",
   "execution_count": null,
   "metadata": {},
   "outputs": [],
   "source": [
    "#Group by and sum some of the fields\n",
    "forecastsDF.groupby('tpnb')[['forecast', 'capacity']].sum()"
   ]
  },
  {
   "cell_type": "code",
   "execution_count": null,
   "metadata": {},
   "outputs": [],
   "source": [
    "#Get the TPNB with the highest national forecast\n",
    "forecastsDF.groupby('tpnb')['forecast'].sum().sort_values(ascending=False).head(1)"
   ]
  },
  {
   "cell_type": "code",
   "execution_count": null,
   "metadata": {},
   "outputs": [],
   "source": [
    "pd.pivot_table(forecastsDF, values=['store','forecast'], index=['offer_number', 'tpnb'], aggfunc={'store':len, 'forecast':[sum, max]})"
   ]
  },
  {
   "cell_type": "markdown",
   "metadata": {},
   "source": [
    "#### Merging and concatenation\n",
    "\n",
    "* ```pandas.merge()``` works similalry as joins in SQL\n",
    "* ```pandas.concat()``` works as union in SQL"
   ]
  },
  {
   "cell_type": "code",
   "execution_count": null,
   "metadata": {},
   "outputs": [],
   "source": [
    "storeID = [1001,1002,1003,1004,1005,4001]\n",
    "sales = np.random.randint(5,25,6)\n",
    "storeName = ['Nitra', 'Kosice', 'Banska bystrica', 'Petrzalka', 'Trnava','Vrable']\n",
    "\n",
    "leftTable = pd.DataFrame(list(zip(storeID,sales)), columns=['store_id', 'adj_sales'])\n",
    "rightTable = pd.DataFrame(list(zip(storeID,storeName)), columns=['store_id', 'store_name'])"
   ]
  },
  {
   "cell_type": "code",
   "execution_count": null,
   "metadata": {
    "scrolled": true
   },
   "outputs": [],
   "source": [
    "rightTable"
   ]
  },
  {
   "cell_type": "code",
   "execution_count": null,
   "metadata": {
    "scrolled": true
   },
   "outputs": [],
   "source": [
    "leftTable"
   ]
  },
  {
   "cell_type": "code",
   "execution_count": null,
   "metadata": {},
   "outputs": [],
   "source": [
    "pd.merge(leftTable, rightTable, how='inner', left_on='store_id', right_on='store_id')[['store_id', 'store_name','adj_sales']]"
   ]
  },
  {
   "cell_type": "code",
   "execution_count": null,
   "metadata": {
    "scrolled": true
   },
   "outputs": [],
   "source": [
    "salesDF = pd.merge(leftTable, rightTable, how='left', left_on='store_id', right_on='store_id')[['store_id', 'store_name','adj_sales']]\n",
    "salesDF"
   ]
  },
  {
   "cell_type": "code",
   "execution_count": null,
   "metadata": {},
   "outputs": [],
   "source": [
    "df1 = pd.DataFrame(\n",
    "     {\n",
    "         \"A\": [\"A0\", \"A1\", \"A2\", \"A3\"],\n",
    "         \"B\": [\"B0\", \"B1\", \"B2\", \"B3\"],\n",
    "         \"C\": [\"C0\", \"C1\", \"C2\", \"C3\"],\n",
    "         \"D\": [\"D0\", \"D1\", \"D2\", \"D3\"],\n",
    "     },\n",
    " )\n",
    "\n",
    "df2 = pd.DataFrame(\n",
    "    {\n",
    "        \"A\": [\"A4\", \"A5\", \"A6\", \"A7\"],\n",
    "        \"B\": [\"B4\", \"B5\", \"B6\", \"B7\"],\n",
    "        \"C\": [\"C4\", \"C5\", \"C6\", \"C7\"],\n",
    "        \"D\": [\"D4\", \"D5\", \"D6\", \"D7\"],\n",
    "    },\n",
    "    \n",
    ")\n",
    "\n",
    "frames = [df1, df2]\n",
    "\n",
    "pd.concat(frames,axis=0)"
   ]
  },
  {
   "cell_type": "markdown",
   "metadata": {},
   "source": [
    "#### Export results\n",
    "\n",
    "With Pandas we can also export our results into most used data formats such as csv, Excel, JSON and many more."
   ]
  },
  {
   "cell_type": "code",
   "execution_count": null,
   "metadata": {},
   "outputs": [],
   "source": [
    "salesDF.to_csv('exported_sales.csv', sep='|')"
   ]
  }
 ],
 "metadata": {
  "kernelspec": {
   "display_name": "Python 3",
   "language": "python",
   "name": "python3"
  },
  "language_info": {
   "codemirror_mode": {
    "name": "ipython",
    "version": 3
   },
   "file_extension": ".py",
   "mimetype": "text/x-python",
   "name": "python",
   "nbconvert_exporter": "python",
   "pygments_lexer": "ipython3",
   "version": "3.7.3"
  }
 },
 "nbformat": 4,
 "nbformat_minor": 2
}
